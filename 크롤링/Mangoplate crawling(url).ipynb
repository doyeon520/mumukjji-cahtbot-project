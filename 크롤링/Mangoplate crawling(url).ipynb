{
 "cells": [
  {
   "cell_type": "code",
   "execution_count": 1,
   "metadata": {},
   "outputs": [],
   "source": [
    "from bs4 import BeautifulSoup\n",
    "import requests\n",
    "import pandas as pd\n",
    "from selenium import webdriver\n",
    "from selenium.webdriver.common.keys import Keys\n",
    "from selenium.webdriver.common.action_chains import ActionChains\n",
    "import time\n",
    "import os"
   ]
  },
  {
   "cell_type": "code",
   "execution_count": 2,
   "metadata": {},
   "outputs": [],
   "source": [
    "driver=webdriver.Chrome('./chromedriver.exe')\n",
    "action=ActionChains(driver)"
   ]
  },
  {
   "cell_type": "code",
   "execution_count": null,
   "metadata": {},
   "outputs": [],
   "source": [
    "#망고플레이트 맛집리스트 안에잇는 모든 url크롤링"
   ]
  },
  {
   "cell_type": "code",
   "execution_count": 3,
   "metadata": {},
   "outputs": [],
   "source": [
    "driver.get('https://www.mangoplate.com/top_lists')\n",
    "driver.maximize_window()\n",
    "#driver.implicitly_wait(3)\n",
    "#driver.find_element_by_css_selector('body > main > article > section > div > a').click()"
   ]
  },
  {
   "cell_type": "code",
   "execution_count": 4,
   "metadata": {},
   "outputs": [],
   "source": [
    "#더보기버튼 안나올때까지 클릭\n",
    "while True:\n",
    "    try:\n",
    "        더보기 = driver.find_element_by_css_selector('body > main > article > section > div > a')\n",
    "        더보기.click()\n",
    "        time.sleep(1)\n",
    "    except:\n",
    "        break"
   ]
  },
  {
   "cell_type": "code",
   "execution_count": 5,
   "metadata": {},
   "outputs": [],
   "source": [
    "#태그별로 url뽑아오기\n",
    "html_doc = driver.page_source\n",
    "soup = BeautifulSoup(html_doc, 'html.parser')\n",
    "rlink = []\n",
    "for link in soup.find_all('a'):\n",
    "    try:\n",
    "        if link.get('href').find('top_lists/') != -1 :\n",
    "            if link.get('href').find('link_key') == -1 :\n",
    "                rlink.append(link.get('href'))\n",
    "    except AttributeError:\n",
    "        continue\n",
    "#print(rlink)\n",
    "#tabMove1 > div > ul > li:nth-child(2) > div > a"
   ]
  },
  {
   "cell_type": "code",
   "execution_count": 6,
   "metadata": {},
   "outputs": [],
   "source": [
    "#위에서 뽑은 url로 들어가서 각식당url뽑아오기\n",
    "hotlink = []\n",
    "for i in rlink:\n",
    "    url2=driver.get('https://www.mangoplate.com/'+str(i))\n",
    "    while True:\n",
    "        try:\n",
    "            더보기 = driver.find_element_by_css_selector('#contents_list > div > button')\n",
    "            더보기.click()\n",
    "            time.sleep(1)\n",
    "        except:\n",
    "            break\n",
    "    html_doc = driver.page_source\n",
    "    soup = BeautifulSoup(html_doc, 'html.parser')\n",
    "    for link in soup.find_all('a','btn-detail'):\n",
    "        hotlink.append(link.get('href'))\n",
    "       \n",
    "    #print(hotlink)\n"
   ]
  },
  {
   "cell_type": "code",
   "execution_count": 7,
   "metadata": {},
   "outputs": [
    {
     "data": {
      "text/plain": [
       "20677"
      ]
     },
     "execution_count": 7,
     "metadata": {},
     "output_type": "execute_result"
    }
   ],
   "source": [
    "len(hotlink)"
   ]
  },
  {
   "cell_type": "code",
   "execution_count": 8,
   "metadata": {},
   "outputs": [],
   "source": [
    "result=pd.DataFrame({\n",
    "    '맛집url':hotlink\n",
    "})"
   ]
  },
  {
   "cell_type": "code",
   "execution_count": 9,
   "metadata": {},
   "outputs": [],
   "source": [
    "result.to_csv('result.csv', index=False, index_label=None)"
   ]
  },
  {
   "cell_type": "code",
   "execution_count": 10,
   "metadata": {},
   "outputs": [
    {
     "data": {
      "text/html": [
       "<div>\n",
       "<style scoped>\n",
       "    .dataframe tbody tr th:only-of-type {\n",
       "        vertical-align: middle;\n",
       "    }\n",
       "\n",
       "    .dataframe tbody tr th {\n",
       "        vertical-align: top;\n",
       "    }\n",
       "\n",
       "    .dataframe thead th {\n",
       "        text-align: right;\n",
       "    }\n",
       "</style>\n",
       "<table border=\"1\" class=\"dataframe\">\n",
       "  <thead>\n",
       "    <tr style=\"text-align: right;\">\n",
       "      <th></th>\n",
       "      <th>맛집url</th>\n",
       "    </tr>\n",
       "  </thead>\n",
       "  <tbody>\n",
       "    <tr>\n",
       "      <th>0</th>\n",
       "      <td>/restaurants/cTAy9QS_J5cl</td>\n",
       "    </tr>\n",
       "    <tr>\n",
       "      <th>1</th>\n",
       "      <td>/restaurants/0kuRscmhbREW</td>\n",
       "    </tr>\n",
       "    <tr>\n",
       "      <th>2</th>\n",
       "      <td>/restaurants/0eY8YzMwpZ</td>\n",
       "    </tr>\n",
       "    <tr>\n",
       "      <th>3</th>\n",
       "      <td>/restaurants/X2oyP4U6-a</td>\n",
       "    </tr>\n",
       "    <tr>\n",
       "      <th>4</th>\n",
       "      <td>/restaurants/iXjQqcw9rdi4</td>\n",
       "    </tr>\n",
       "    <tr>\n",
       "      <th>...</th>\n",
       "      <td>...</td>\n",
       "    </tr>\n",
       "    <tr>\n",
       "      <th>20672</th>\n",
       "      <td>/restaurants/oa60BR-xnV</td>\n",
       "    </tr>\n",
       "    <tr>\n",
       "      <th>20673</th>\n",
       "      <td>/restaurants/ykl4k4RTxi</td>\n",
       "    </tr>\n",
       "    <tr>\n",
       "      <th>20674</th>\n",
       "      <td>/restaurants/61fgVCcMrw</td>\n",
       "    </tr>\n",
       "    <tr>\n",
       "      <th>20675</th>\n",
       "      <td>/restaurants/kybu8zVgU6</td>\n",
       "    </tr>\n",
       "    <tr>\n",
       "      <th>20676</th>\n",
       "      <td>/restaurants/pSrGdzH1DA</td>\n",
       "    </tr>\n",
       "  </tbody>\n",
       "</table>\n",
       "<p>20677 rows × 1 columns</p>\n",
       "</div>"
      ],
      "text/plain": [
       "                           맛집url\n",
       "0      /restaurants/cTAy9QS_J5cl\n",
       "1      /restaurants/0kuRscmhbREW\n",
       "2        /restaurants/0eY8YzMwpZ\n",
       "3        /restaurants/X2oyP4U6-a\n",
       "4      /restaurants/iXjQqcw9rdi4\n",
       "...                          ...\n",
       "20672    /restaurants/oa60BR-xnV\n",
       "20673    /restaurants/ykl4k4RTxi\n",
       "20674    /restaurants/61fgVCcMrw\n",
       "20675    /restaurants/kybu8zVgU6\n",
       "20676    /restaurants/pSrGdzH1DA\n",
       "\n",
       "[20677 rows x 1 columns]"
      ]
     },
     "execution_count": 10,
     "metadata": {},
     "output_type": "execute_result"
    }
   ],
   "source": [
    "df=pd.read_csv('result.csv')\n",
    "df"
   ]
  },
  {
   "cell_type": "code",
   "execution_count": null,
   "metadata": {},
   "outputs": [],
   "source": []
  }
 ],
 "metadata": {
  "kernelspec": {
   "display_name": "Python 3",
   "language": "python",
   "name": "python3"
  },
  "language_info": {
   "codemirror_mode": {
    "name": "ipython",
    "version": 3
   },
   "file_extension": ".py",
   "mimetype": "text/x-python",
   "name": "python",
   "nbconvert_exporter": "python",
   "pygments_lexer": "ipython3",
   "version": "3.7.6"
  }
 },
 "nbformat": 4,
 "nbformat_minor": 4
}
