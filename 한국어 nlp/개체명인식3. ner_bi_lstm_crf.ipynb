{
 "cells": [
  {
   "cell_type": "code",
   "execution_count": 2,
   "metadata": {},
   "outputs": [
    {
     "data": {
      "text/plain": [
       "'2.3.0-rc0'"
      ]
     },
     "execution_count": 2,
     "metadata": {},
     "output_type": "execute_result"
    }
   ],
   "source": [
    "import tensorflow as tf\n",
    "tf.__version__"
   ]
  },
  {
   "cell_type": "code",
   "execution_count": 3,
   "metadata": {},
   "outputs": [
    {
     "data": {
      "text/plain": [
       "'2.4.3'"
      ]
     },
     "execution_count": 3,
     "metadata": {},
     "output_type": "execute_result"
    }
   ],
   "source": [
    "import keras\n",
    "keras.__version__"
   ]
  },
  {
   "cell_type": "code",
   "execution_count": 4,
   "metadata": {
    "collapsed": true,
    "jupyter": {
     "outputs_hidden": true
    }
   },
   "outputs": [
    {
     "name": "stdout",
     "output_type": "stream",
     "text": [
      "Collecting tf2crf\n",
      "  Downloading tf2crf-0.1.17-py2.py3-none-any.whl (6.7 kB)\n",
      "Collecting tensorflow-addons>=0.8.2\n",
      "  Downloading tensorflow_addons-0.11.2-cp37-cp37m-win_amd64.whl (911 kB)\n",
      "Requirement already satisfied: tensorflow>=2.1.0 in c:\\users\\user\\anaconda3\\lib\\site-packages (from tf2crf) (2.3.0rc0)\n",
      "Collecting typeguard>=2.7\n",
      "  Downloading typeguard-2.9.1-py3-none-any.whl (16 kB)\n",
      "Requirement already satisfied: scipy==1.4.1 in c:\\users\\user\\anaconda3\\lib\\site-packages (from tensorflow>=2.1.0->tf2crf) (1.4.1)\n",
      "Requirement already satisfied: h5py<2.11.0,>=2.10.0 in c:\\users\\user\\anaconda3\\lib\\site-packages (from tensorflow>=2.1.0->tf2crf) (2.10.0)\n",
      "Requirement already satisfied: keras-preprocessing<1.2,>=1.1.1 in c:\\users\\user\\anaconda3\\lib\\site-packages (from tensorflow>=2.1.0->tf2crf) (1.1.2)\n",
      "Requirement already satisfied: tf-estimator-nightly<2.3.0.dev2020062302,>=2.3.0.dev2020062301 in c:\\users\\user\\anaconda3\\lib\\site-packages (from tensorflow>=2.1.0->tf2crf) (2.3.0.dev2020062301)\n",
      "Requirement already satisfied: opt-einsum>=2.3.2 in c:\\users\\user\\anaconda3\\lib\\site-packages (from tensorflow>=2.1.0->tf2crf) (3.2.1)\n",
      "Requirement already satisfied: gast==0.3.3 in c:\\users\\user\\anaconda3\\lib\\site-packages (from tensorflow>=2.1.0->tf2crf) (0.3.3)\n",
      "Requirement already satisfied: wrapt>=1.11.1 in c:\\users\\user\\appdata\\roaming\\python\\python37\\site-packages (from tensorflow>=2.1.0->tf2crf) (1.12.1)\n",
      "Requirement already satisfied: protobuf>=3.9.2 in c:\\users\\user\\anaconda3\\lib\\site-packages (from tensorflow>=2.1.0->tf2crf) (3.12.2)\n",
      "Requirement already satisfied: numpy<1.19.0,>=1.16.0 in c:\\users\\user\\anaconda3\\lib\\site-packages (from tensorflow>=2.1.0->tf2crf) (1.18.1)\n",
      "Requirement already satisfied: termcolor>=1.1.0 in c:\\users\\user\\anaconda3\\lib\\site-packages (from tensorflow>=2.1.0->tf2crf) (1.1.0)\n",
      "Requirement already satisfied: grpcio>=1.8.6 in c:\\users\\user\\anaconda3\\lib\\site-packages (from tensorflow>=2.1.0->tf2crf) (1.30.0)\n",
      "Requirement already satisfied: astunparse==1.6.3 in c:\\users\\user\\anaconda3\\lib\\site-packages (from tensorflow>=2.1.0->tf2crf) (1.6.3)\n",
      "Requirement already satisfied: absl-py>=0.7.0 in c:\\users\\user\\anaconda3\\lib\\site-packages (from tensorflow>=2.1.0->tf2crf) (0.9.0)\n",
      "Requirement already satisfied: six>=1.12.0 in c:\\users\\user\\appdata\\roaming\\python\\python37\\site-packages (from tensorflow>=2.1.0->tf2crf) (1.15.0)\n",
      "Requirement already satisfied: wheel>=0.26 in c:\\users\\user\\anaconda3\\lib\\site-packages (from tensorflow>=2.1.0->tf2crf) (0.34.2)\n",
      "Requirement already satisfied: google-pasta>=0.1.8 in c:\\users\\user\\anaconda3\\lib\\site-packages (from tensorflow>=2.1.0->tf2crf) (0.2.0)\n",
      "Requirement already satisfied: tensorboard<2.3.0,>=2.2.0 in c:\\users\\user\\anaconda3\\lib\\site-packages (from tensorflow>=2.1.0->tf2crf) (2.2.2)\n",
      "Requirement already satisfied: setuptools in c:\\users\\user\\anaconda3\\lib\\site-packages (from protobuf>=3.9.2->tensorflow>=2.1.0->tf2crf) (45.2.0.post20200210)\n",
      "Requirement already satisfied: markdown>=2.6.8 in c:\\users\\user\\anaconda3\\lib\\site-packages (from tensorboard<2.3.0,>=2.2.0->tensorflow>=2.1.0->tf2crf) (3.2.2)\n",
      "Requirement already satisfied: tensorboard-plugin-wit>=1.6.0 in c:\\users\\user\\anaconda3\\lib\\site-packages (from tensorboard<2.3.0,>=2.2.0->tensorflow>=2.1.0->tf2crf) (1.7.0)\n",
      "Requirement already satisfied: werkzeug>=0.11.15 in c:\\users\\user\\anaconda3\\lib\\site-packages (from tensorboard<2.3.0,>=2.2.0->tensorflow>=2.1.0->tf2crf) (1.0.0)\n",
      "Requirement already satisfied: google-auth<2,>=1.6.3 in c:\\users\\user\\anaconda3\\lib\\site-packages (from tensorboard<2.3.0,>=2.2.0->tensorflow>=2.1.0->tf2crf) (1.18.0)\n",
      "Requirement already satisfied: requests<3,>=2.21.0 in c:\\users\\user\\anaconda3\\lib\\site-packages (from tensorboard<2.3.0,>=2.2.0->tensorflow>=2.1.0->tf2crf) (2.22.0)\n",
      "Requirement already satisfied: google-auth-oauthlib<0.5,>=0.4.1 in c:\\users\\user\\anaconda3\\lib\\site-packages (from tensorboard<2.3.0,>=2.2.0->tensorflow>=2.1.0->tf2crf) (0.4.1)\n",
      "Requirement already satisfied: importlib-metadata; python_version < \"3.8\" in c:\\users\\user\\anaconda3\\lib\\site-packages (from markdown>=2.6.8->tensorboard<2.3.0,>=2.2.0->tensorflow>=2.1.0->tf2crf) (1.5.0)\n",
      "Requirement already satisfied: cachetools<5.0,>=2.0.0 in c:\\users\\user\\anaconda3\\lib\\site-packages (from google-auth<2,>=1.6.3->tensorboard<2.3.0,>=2.2.0->tensorflow>=2.1.0->tf2crf) (4.1.0)\n",
      "Requirement already satisfied: pyasn1-modules>=0.2.1 in c:\\users\\user\\anaconda3\\lib\\site-packages (from google-auth<2,>=1.6.3->tensorboard<2.3.0,>=2.2.0->tensorflow>=2.1.0->tf2crf) (0.2.8)\n",
      "Requirement already satisfied: rsa<5,>=3.1.4; python_version >= \"3\" in c:\\users\\user\\anaconda3\\lib\\site-packages (from google-auth<2,>=1.6.3->tensorboard<2.3.0,>=2.2.0->tensorflow>=2.1.0->tf2crf) (4.6)\n",
      "Requirement already satisfied: chardet<3.1.0,>=3.0.2 in c:\\users\\user\\anaconda3\\lib\\site-packages (from requests<3,>=2.21.0->tensorboard<2.3.0,>=2.2.0->tensorflow>=2.1.0->tf2crf) (3.0.4)\n",
      "Requirement already satisfied: idna<2.9,>=2.5 in c:\\users\\user\\anaconda3\\lib\\site-packages (from requests<3,>=2.21.0->tensorboard<2.3.0,>=2.2.0->tensorflow>=2.1.0->tf2crf) (2.8)\n",
      "Requirement already satisfied: certifi>=2017.4.17 in c:\\users\\user\\anaconda3\\lib\\site-packages (from requests<3,>=2.21.0->tensorboard<2.3.0,>=2.2.0->tensorflow>=2.1.0->tf2crf) (2020.6.20)\n",
      "Requirement already satisfied: urllib3!=1.25.0,!=1.25.1,<1.26,>=1.21.1 in c:\\users\\user\\anaconda3\\lib\\site-packages (from requests<3,>=2.21.0->tensorboard<2.3.0,>=2.2.0->tensorflow>=2.1.0->tf2crf) (1.25.8)\n",
      "Requirement already satisfied: requests-oauthlib>=0.7.0 in c:\\users\\user\\anaconda3\\lib\\site-packages (from google-auth-oauthlib<0.5,>=0.4.1->tensorboard<2.3.0,>=2.2.0->tensorflow>=2.1.0->tf2crf) (1.3.0)\n",
      "Requirement already satisfied: zipp>=0.5 in c:\\users\\user\\anaconda3\\lib\\site-packages (from importlib-metadata; python_version < \"3.8\"->markdown>=2.6.8->tensorboard<2.3.0,>=2.2.0->tensorflow>=2.1.0->tf2crf) (2.2.0)\n",
      "Requirement already satisfied: pyasn1<0.5.0,>=0.4.6 in c:\\users\\user\\anaconda3\\lib\\site-packages (from pyasn1-modules>=0.2.1->google-auth<2,>=1.6.3->tensorboard<2.3.0,>=2.2.0->tensorflow>=2.1.0->tf2crf) (0.4.8)\n",
      "Requirement already satisfied: oauthlib>=3.0.0 in c:\\users\\user\\anaconda3\\lib\\site-packages (from requests-oauthlib>=0.7.0->google-auth-oauthlib<0.5,>=0.4.1->tensorboard<2.3.0,>=2.2.0->tensorflow>=2.1.0->tf2crf) (3.1.0)\n",
      "Installing collected packages: typeguard, tensorflow-addons, tf2crf\n",
      "Successfully installed tensorflow-addons-0.11.2 tf2crf-0.1.17 typeguard-2.9.1\n"
     ]
    }
   ],
   "source": [
    "# !pip install tf2crf"
   ]
  },
  {
   "cell_type": "code",
   "execution_count": 15,
   "metadata": {
    "colab": {},
    "colab_type": "code",
    "id": "G0UysXk332RW"
   },
   "outputs": [],
   "source": [
    "import pandas as pd\n",
    "import numpy as np\n",
    "import matplotlib.pyplot as plt\n",
    "from tensorflow.keras.preprocessing.text import Tokenizer\n",
    "from tensorflow.keras.preprocessing.sequence import pad_sequences\n",
    "from sklearn.model_selection import train_test_split\n",
    "from tensorflow.keras.utils import to_categorical"
   ]
  },
  {
   "cell_type": "code",
   "execution_count": 16,
   "metadata": {
    "colab": {
     "base_uri": "https://localhost:8080/",
     "height": 294
    },
    "colab_type": "code",
    "id": "7UcvzHGS32Sd",
    "outputId": "bb9bc1e4-22f9-4b3f-ae46-ff7d1e4020b3"
   },
   "outputs": [],
   "source": [
    "X_train, X_test, y_train, y_test = pd.read_pickle('ner_kor_dataset.pkl')"
   ]
  },
  {
   "cell_type": "code",
   "execution_count": 17,
   "metadata": {
    "colab": {},
    "colab_type": "code",
    "id": "JsyEDe5C32Si"
   },
   "outputs": [
    {
     "name": "stdout",
     "output_type": "stream",
     "text": [
      "훈련 샘플 문장의 크기 : (18492, 125)\n",
      "훈련 샘플 레이블의 크기 : (18492, 125, 22)\n",
      "테스트 샘플 문장의 크기 : (4623, 125)\n",
      "테스트 샘플 레이블의 크기 : (4623, 125, 22)\n"
     ]
    }
   ],
   "source": [
    "print('훈련 샘플 문장의 크기 : {}'.format(X_train.shape))\n",
    "print('훈련 샘플 레이블의 크기 : {}'.format(y_train.shape))\n",
    "print('테스트 샘플 문장의 크기 : {}'.format(X_test.shape))\n",
    "print('테스트 샘플 레이블의 크기 : {}'.format(y_test.shape))"
   ]
  },
  {
   "cell_type": "code",
   "execution_count": 18,
   "metadata": {
    "colab": {},
    "colab_type": "code",
    "id": "xwnJJzBwY923"
   },
   "outputs": [],
   "source": [
    "vocab_size = 46240\n",
    "tag_size = 22\n",
    "max_len = 125"
   ]
  },
  {
   "cell_type": "markdown",
   "metadata": {
    "colab_type": "text",
    "id": "MQwJ6mf432Sl"
   },
   "source": [
    "---"
   ]
  },
  {
   "cell_type": "code",
   "execution_count": 19,
   "metadata": {
    "colab": {},
    "colab_type": "code",
    "id": "DNQqK6Rw32Sl"
   },
   "outputs": [],
   "source": [
    "from tf2crf import CRF\n",
    "from keras.models import Sequential\n",
    "from keras.layers import LSTM, Embedding, Dense, TimeDistributed, Dropout, Bidirectional\n",
    "# from keras_contrib.layers import CRF"
   ]
  },
  {
   "cell_type": "code",
   "execution_count": 20,
   "metadata": {
    "colab": {},
    "colab_type": "code",
    "id": "fcZwq17S32Sn"
   },
   "outputs": [],
   "source": [
    "model = Sequential()\n",
    "model.add(Embedding(input_dim=vocab_size, output_dim=20, input_length=max_len, mask_zero=True))\n",
    "model.add(Bidirectional(LSTM(units=50, return_sequences=True, recurrent_dropout=0.1)))#이전 시점의 단어 정보 뿐만 아니라, 다음 시점의 단어 정보도 참고하기 위함\n",
    "model.add(TimeDistributed(Dense(50, activation=\"relu\")))  #각 스텝마다 cost (오류)를 계산해서 하위 스텝으로 오류를 전파\n",
    "crf = CRF(tag_size)\n",
    "model.add(crf)"
   ]
  },
  {
   "cell_type": "markdown",
   "metadata": {},
   "source": [
    "# optimizer=\"adam\" 사용"
   ]
  },
  {
   "cell_type": "code",
   "execution_count": 7,
   "metadata": {},
   "outputs": [
    {
     "name": "stdout",
     "output_type": "stream",
     "text": [
      "Epoch 1/10\n",
      "521/521 [==============================] - 128s 245ms/step - loss: 6.9223 - accuracy: 0.7767 - val_loss: 18.8410 - val_accuracy: 0.8311\n",
      "Epoch 2/10\n",
      "521/521 [==============================] - 139s 267ms/step - loss: 3.5390 - accuracy: 0.8449 - val_loss: 17.5451 - val_accuracy: 0.8571\n",
      "Epoch 3/10\n",
      "521/521 [==============================] - 159s 305ms/step - loss: 2.5897 - accuracy: 0.8693 - val_loss: 16.4999 - val_accuracy: 0.8674\n",
      "Epoch 4/10\n",
      "521/521 [==============================] - 174s 334ms/step - loss: 2.0256 - accuracy: 0.8879 - val_loss: 15.4341 - val_accuracy: 0.8759\n",
      "Epoch 5/10\n",
      "521/521 [==============================] - 169s 324ms/step - loss: 1.5995 - accuracy: 0.9032 - val_loss: 14.3467 - val_accuracy: 0.8826\n",
      "Epoch 6/10\n",
      "521/521 [==============================] - 169s 325ms/step - loss: 1.2941 - accuracy: 0.9179 - val_loss: 13.3143 - val_accuracy: 0.8932\n",
      "Epoch 7/10\n",
      "521/521 [==============================] - 165s 316ms/step - loss: 1.0477 - accuracy: 0.9339 - val_loss: 12.5443 - val_accuracy: 0.8963\n",
      "Epoch 8/10\n",
      "521/521 [==============================] - 166s 318ms/step - loss: 0.8836 - accuracy: 0.9425 - val_loss: 11.9255 - val_accuracy: 0.8997\n",
      "Epoch 9/10\n",
      "521/521 [==============================] - 169s 324ms/step - loss: 0.7605 - accuracy: 0.9498 - val_loss: 11.4626 - val_accuracy: 0.9028\n",
      "Epoch 10/10\n",
      "521/521 [==============================] - 179s 343ms/step - loss: 0.6579 - accuracy: 0.9561 - val_loss: 11.1755 - val_accuracy: 0.9073\n"
     ]
    }
   ],
   "source": [
    "model.compile(optimizer=\"adam\", loss=crf.loss\n",
    "              , metrics=[crf.accuracy])\n",
    "history = model.fit(X_train, y_train, batch_size=32, epochs=10, validation_split=0.1, verbose=1)"
   ]
  },
  {
   "cell_type": "code",
   "execution_count": 8,
   "metadata": {},
   "outputs": [
    {
     "name": "stdout",
     "output_type": "stream",
     "text": [
      "145/145 [==============================] - 13s 92ms/step - loss: 10.9433 - accuracy: 0.9060\n",
      "\n",
      " 테스트 정확도: 0.9060\n"
     ]
    }
   ],
   "source": [
    "print(\"\\n 테스트 정확도: %.4f\" % (model.evaluate(X_test, y_test)[1]))"
   ]
  },
  {
   "cell_type": "code",
   "execution_count": 9,
   "metadata": {},
   "outputs": [],
   "source": [
    "model.save(\"model_biLSTM_adam.h5\")"
   ]
  },
  {
   "cell_type": "markdown",
   "metadata": {},
   "source": [
    "# optimizer=\"rmsprop\" 사용"
   ]
  },
  {
   "cell_type": "code",
   "execution_count": 19,
   "metadata": {
    "colab": {},
    "colab_type": "code",
    "id": "X2ryx1O76GwK"
   },
   "outputs": [
    {
     "name": "stdout",
     "output_type": "stream",
     "text": [
      "Epoch 1/10\n",
      "521/521 [==============================] - 199s 382ms/step - loss: 6.5845 - accuracy: 0.7916 - val_loss: 16.0977 - val_accuracy: 0.8223\n",
      "Epoch 2/10\n",
      "521/521 [==============================] - 201s 385ms/step - loss: 3.8898 - accuracy: 0.8322 - val_loss: 12.2485 - val_accuracy: 0.8492\n",
      "Epoch 3/10\n",
      "521/521 [==============================] - 184s 353ms/step - loss: 2.9464 - accuracy: 0.8576 - val_loss: 9.5468 - val_accuracy: 0.8604\n",
      "Epoch 4/10\n",
      "521/521 [==============================] - 196s 377ms/step - loss: 2.3490 - accuracy: 0.8712 - val_loss: 8.2265 - val_accuracy: 0.8715\n",
      "Epoch 5/10\n",
      "521/521 [==============================] - 202s 388ms/step - loss: 1.9059 - accuracy: 0.8857 - val_loss: 7.7325 - val_accuracy: 0.8808\n",
      "Epoch 6/10\n",
      "521/521 [==============================] - 160s 308ms/step - loss: 1.6066 - accuracy: 0.8955 - val_loss: 7.8826 - val_accuracy: 0.8852\n",
      "Epoch 7/10\n",
      "521/521 [==============================] - 179s 343ms/step - loss: 1.4248 - accuracy: 0.9018 - val_loss: 8.4429 - val_accuracy: 0.8880\n",
      "Epoch 8/10\n",
      "521/521 [==============================] - 170s 326ms/step - loss: 1.2979 - accuracy: 0.9067 - val_loss: 9.1049 - val_accuracy: 0.8912\n",
      "Epoch 9/10\n",
      "521/521 [==============================] - 165s 317ms/step - loss: 1.2030 - accuracy: 0.9121 - val_loss: 9.8073 - val_accuracy: 0.8912\n",
      "Epoch 10/10\n",
      "521/521 [==============================] - 191s 366ms/step - loss: 1.1326 - accuracy: 0.9161 - val_loss: 10.4476 - val_accuracy: 0.8904\n"
     ]
    }
   ],
   "source": [
    "model.compile(optimizer=\"rmsprop\", loss=crf.loss\n",
    "              , metrics=[crf.accuracy])\n",
    "history = model.fit(X_train, y_train, batch_size=32, epochs=10, validation_split=0.1, verbose=1)"
   ]
  },
  {
   "cell_type": "code",
   "execution_count": 20,
   "metadata": {
    "colab": {},
    "colab_type": "code",
    "id": "lzdDjrqi8LLC"
   },
   "outputs": [
    {
     "name": "stdout",
     "output_type": "stream",
     "text": [
      "145/145 [==============================] - 26s 177ms/step - loss: 10.1891 - accuracy: 0.8905\n",
      "\n",
      " 테스트 정확도: 0.8905\n"
     ]
    }
   ],
   "source": [
    "print(\"\\n 테스트 정확도: %.4f\" % (model.evaluate(X_test, y_test)[1]))"
   ]
  },
  {
   "cell_type": "code",
   "execution_count": 21,
   "metadata": {},
   "outputs": [],
   "source": [
    "model.save(\"model_biLSTM.h5\")"
   ]
  },
  {
   "cell_type": "code",
   "execution_count": null,
   "metadata": {},
   "outputs": [],
   "source": []
  }
 ],
 "metadata": {
  "accelerator": "GPU",
  "colab": {
   "collapsed_sections": [],
   "name": "ner_bi_lstm_crf2.ipynb",
   "provenance": []
  },
  "kernelspec": {
   "display_name": "Python 3",
   "language": "python",
   "name": "python3"
  },
  "language_info": {
   "codemirror_mode": {
    "name": "ipython",
    "version": 3
   },
   "file_extension": ".py",
   "mimetype": "text/x-python",
   "name": "python",
   "nbconvert_exporter": "python",
   "pygments_lexer": "ipython3",
   "version": "3.7.6"
  }
 },
 "nbformat": 4,
 "nbformat_minor": 4
}
