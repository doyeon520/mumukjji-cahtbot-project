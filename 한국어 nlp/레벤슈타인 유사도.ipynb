{
 "cells": [
  {
   "cell_type": "code",
   "execution_count": 1,
   "metadata": {},
   "outputs": [],
   "source": [
    "# pip install soynlp"
   ]
  },
  {
   "cell_type": "code",
   "execution_count": 2,
   "metadata": {},
   "outputs": [
    {
     "name": "stdout",
     "output_type": "stream",
     "text": [
      "1\n",
      "0.3333333333333333\n"
     ]
    }
   ],
   "source": [
    "from soynlp.hangle import levenshtein\n",
    "from soynlp.hangle import jamo_levenshtein\n",
    "\n",
    "s1 = '아이쿠야'\n",
    "s2 = '아이쿵야'\n",
    "\n",
    "print(levenshtein(s1, s2)) \n",
    "print(jamo_levenshtein(s1, s2)) "
   ]
  },
  {
   "cell_type": "code",
   "execution_count": 3,
   "metadata": {},
   "outputs": [
    {
     "name": "stdout",
     "output_type": "stream",
     "text": [
      "1\n",
      "0.3333333333333333\n"
     ]
    }
   ],
   "source": [
    "s1 = '만두국'\n",
    "s2 = '만둣국'\n",
    "\n",
    "print(levenshtein(s1, s2)) \n",
    "print(jamo_levenshtein(s1, s2)) "
   ]
  },
  {
   "cell_type": "code",
   "execution_count": 4,
   "metadata": {},
   "outputs": [
    {
     "name": "stdout",
     "output_type": "stream",
     "text": [
      "3\n",
      "2.0\n"
     ]
    }
   ],
   "source": [
    "s1 = '만두국'\n",
    "s2 = '마라탕'\n",
    "\n",
    "print(levenshtein(s1, s2)) \n",
    "print(jamo_levenshtein(s1, s2)) "
   ]
  },
  {
   "cell_type": "code",
   "execution_count": 5,
   "metadata": {},
   "outputs": [
    {
     "name": "stdout",
     "output_type": "stream",
     "text": [
      "2\n",
      "1.6666666666666665\n"
     ]
    }
   ],
   "source": [
    "s1 = '지쳤어'\n",
    "s2 = '지침'\n",
    "print(levenshtein(s1, s2)) \n",
    "print(jamo_levenshtein(s1, s2)) "
   ]
  },
  {
   "cell_type": "code",
   "execution_count": 6,
   "metadata": {},
   "outputs": [],
   "source": [
    "import pandas as pd"
   ]
  },
  {
   "cell_type": "code",
   "execution_count": 7,
   "metadata": {},
   "outputs": [],
   "source": [
    "#감정사전리스트 가져오기\n",
    "df=pd.read_csv('1005_feelings.csv')\n",
    "feel=df['단어'].tolist()"
   ]
  },
  {
   "cell_type": "code",
   "execution_count": 8,
   "metadata": {},
   "outputs": [
    {
     "data": {
      "text/plain": [
       "['좋아',\n",
       " '행복해',\n",
       " '짱이야',\n",
       " '괜찮아',\n",
       " '굿',\n",
       " '유쾌해',\n",
       " '만족해',\n",
       " '사랑해',\n",
       " '평화로워',\n",
       " '신나',\n",
       " '즐거워',\n",
       " '뿌듯해',\n",
       " '산뜻해',\n",
       " '설레',\n",
       " '차분해',\n",
       " '고요해',\n",
       " '상쾌해',\n",
       " '짜릿해',\n",
       " '편해',\n",
       " '통쾌해',\n",
       " '재밌어',\n",
       " '흐뭇해',\n",
       " '활기차',\n",
       " '슬퍼',\n",
       " '우울해',\n",
       " '비참해',\n",
       " '울적해',\n",
       " '침울해',\n",
       " '쓸쓸해',\n",
       " '외로워',\n",
       " '서운해',\n",
       " '울적해',\n",
       " '암담해',\n",
       " '불안해',\n",
       " '걱정',\n",
       " '근심',\n",
       " '무서워',\n",
       " '찝찝해',\n",
       " '눈물',\n",
       " '섭섭해',\n",
       " '속상해',\n",
       " '후회',\n",
       " '괴로워',\n",
       " '민망해',\n",
       " '쪽팔려',\n",
       " '화나',\n",
       " '짜증나',\n",
       " '빡쳐',\n",
       " '스트레스',\n",
       " '별로',\n",
       " '분해',\n",
       " '울화',\n",
       " '극혐',\n",
       " '초조해',\n",
       " '불안해',\n",
       " '긴장',\n",
       " '불쾌해',\n",
       " '성나',\n",
       " '부끄러워',\n",
       " '흥분',\n",
       " '역겨워',\n",
       " '후회',\n",
       " '괴로워',\n",
       " '분노',\n",
       " '최악',\n",
       " '민망해',\n",
       " '쪽팔려',\n",
       " '좆같애',\n",
       " '엿같애',\n",
       " '힘들어',\n",
       " '지쳤어',\n",
       " '피곤해',\n",
       " '허전해',\n",
       " '허탈해',\n",
       " '멍해',\n",
       " '무기력해',\n",
       " '걱정',\n",
       " '근심',\n",
       " '불안해',\n",
       " '무서워',\n",
       " '지겨워',\n",
       " '졸려',\n",
       " '지루해',\n",
       " '무력해',\n",
       " '불편해',\n",
       " '찝찝해',\n",
       " '후회',\n",
       " '혼란',\n",
       " '안타까워',\n",
       " '괴로워',\n",
       " '막막',\n",
       " '따분해']"
      ]
     },
     "execution_count": 8,
     "metadata": {},
     "output_type": "execute_result"
    }
   ],
   "source": [
    "feel"
   ]
  },
  {
   "cell_type": "code",
   "execution_count": 13,
   "metadata": {},
   "outputs": [
    {
     "name": "stdout",
     "output_type": "stream",
     "text": [
      "행복해 : 1.0\n"
     ]
    }
   ],
   "source": [
    "#감정사전리스트와 비교하여 jamo_levenshtein값이 2미만인것만 출력\n",
    "user = '행보케'\n",
    "for i in feel:\n",
    "    lv=jamo_levenshtein(user, i)\n",
    "    if lv < 2:\n",
    "        print(i, ':' ,lv)"
   ]
  },
  {
   "cell_type": "code",
   "execution_count": null,
   "metadata": {},
   "outputs": [],
   "source": []
  }
 ],
 "metadata": {
  "kernelspec": {
   "display_name": "Python 3",
   "language": "python",
   "name": "python3"
  },
  "language_info": {
   "codemirror_mode": {
    "name": "ipython",
    "version": 3
   },
   "file_extension": ".py",
   "mimetype": "text/x-python",
   "name": "python",
   "nbconvert_exporter": "python",
   "pygments_lexer": "ipython3",
   "version": "3.7.6"
  }
 },
 "nbformat": 4,
 "nbformat_minor": 4
}
