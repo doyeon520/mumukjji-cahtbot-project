{
 "cells": [
  {
   "cell_type": "code",
   "execution_count": 2,
   "metadata": {},
   "outputs": [],
   "source": [
    "from selenium import webdriver\n",
    "from bs4 import BeautifulSoup\n",
    "import time\n",
    "import urllib\n",
    "import requests\n",
    "import re\n",
    "import pandas as pd\n",
    "from selenium.webdriver.common.action_chains import ActionChains"
   ]
  },
  {
   "cell_type": "code",
   "execution_count": 3,
   "metadata": {},
   "outputs": [],
   "source": [
    "driver=webdriver.Chrome('./chromedriver.exe')\n",
    "action=ActionChains(driver)"
   ]
  },
  {
   "cell_type": "code",
   "execution_count": 4,
   "metadata": {},
   "outputs": [],
   "source": [
    "driver.get('https://www.diningcode.com/list.php?query=과메기%20맛집') #원하는메뉴\n",
    "driver.maximize_window()\n",
    "#driver.implicitly_wait(3)\n",
    "#driver.find_element_by_css_selector('body > main > article > section > div > a').click()"
   ]
  },
  {
   "cell_type": "code",
   "execution_count": 5,
   "metadata": {},
   "outputs": [],
   "source": [
    "#더보기버튼 안나올때까지 클릭\n",
    "while True:\n",
    "    try:\n",
    "        더보기 = driver.find_element_by_xpath('//*[@id=\"div_list_more\"]')\n",
    "        더보기.click()\n",
    "        time.sleep(2)\n",
    "    except:\n",
    "        break"
   ]
  },
  {
   "cell_type": "code",
   "execution_count": 6,
   "metadata": {},
   "outputs": [],
   "source": [
    "from selenium.webdriver.common.by import By\n",
    "from selenium import webdriver"
   ]
  },
  {
   "cell_type": "code",
   "execution_count": 7,
   "metadata": {
    "collapsed": true,
    "jupyter": {
     "outputs_hidden": true
    }
   },
   "outputs": [
    {
     "name": "stdout",
     "output_type": "stream",
     "text": [
      "['https://www.diningcode.com//profile.php?rid=M31JKw3aQvwu', 'https://www.diningcode.com//profile.php?rid=lk6IgKEe0bVq', 'https://www.diningcode.com//profile.php?rid=RXXIQeafLEkT', 'https://www.diningcode.com//profile.php?rid=xmLcBMBdCWoU', 'https://www.diningcode.com//profile.php?rid=ABQRZiAU5XIP', 'https://www.diningcode.com//profile.php?rid=QpVtfD7twxSn', 'https://www.diningcode.com//profile.php?rid=CihtSsx5VE3W', 'https://www.diningcode.com//profile.php?rid=oJ1GPlqxWuiM', 'https://www.diningcode.com//profile.php?rid=7hmHWldGCG2s', 'https://www.diningcode.com//profile.php?rid=gfcAhA9VvdR4', 'https://www.diningcode.com//profile.php?rid=UXvxeR0gZPEV', 'https://www.diningcode.com//profile.php?rid=jdmyX2TDrHo8', 'https://www.diningcode.com//profile.php?rid=irR2bvohm8IQ', 'https://www.diningcode.com//profile.php?rid=xgy9vMiqjzsX', 'https://www.diningcode.com//profile.php?rid=Pof9HLxRJMht', 'https://www.diningcode.com//profile.php?rid=Cv5iIp9GCx6A', 'https://www.diningcode.com//profile.php?rid=iyZNWfTQJfmZ', 'https://www.diningcode.com//profile.php?rid=d01rYAoULfcL', 'https://www.diningcode.com//profile.php?rid=3qMQCOpVVD2O', 'https://www.diningcode.com//profile.php?rid=sJAmWC5iekBP', 'https://www.diningcode.com//profile.php?rid=3EVdx6f7mt5W', 'https://www.diningcode.com//profile.php?rid=ueQIhyV9Tgyu', 'https://www.diningcode.com//profile.php?rid=5swr5QMO8EOR', 'https://www.diningcode.com//profile.php?rid=jjJ3PtsjEtVJ', 'https://www.diningcode.com//profile.php?rid=IRXTl93rFgGX', 'https://www.diningcode.com//profile.php?rid=YiiDKvbHYMFz', 'https://www.diningcode.com//profile.php?rid=FdUUx0YUQwlM', 'https://www.diningcode.com//profile.php?rid=ySAlqurawh6m', 'https://www.diningcode.com//profile.php?rid=LAR4An6gxwaj', 'https://www.diningcode.com//profile.php?rid=SIxsTUcpcYoS', 'https://www.diningcode.com//profile.php?rid=FwqbJIDyTo2F', 'https://www.diningcode.com//profile.php?rid=VOw6oT30BxhG', 'https://www.diningcode.com//profile.php?rid=WZMeRqSy1o78', 'https://www.diningcode.com//profile.php?rid=tnbbVcdFv3Ur', 'https://www.diningcode.com//profile.php?rid=H8RNFJhktzUS', 'https://www.diningcode.com//profile.php?rid=HIm8NqlYynbZ', 'https://www.diningcode.com//profile.php?rid=4rmU10DWdfqb', 'https://www.diningcode.com//profile.php?rid=lF9Qo0dhytMi', 'https://www.diningcode.com//profile.php?rid=ht90aJdO92rn', 'https://www.diningcode.com//profile.php?rid=LDPOy8qhtQJD', 'https://www.diningcode.com//profile.php?rid=xzekHApFhQYt', 'https://www.diningcode.com//profile.php?rid=dfXLKjhcDrYT', 'https://www.diningcode.com//profile.php?rid=EjTD63CuGiQB', 'https://www.diningcode.com//profile.php?rid=gnrCvV04mwUi', 'https://www.diningcode.com//profile.php?rid=u8lsoOlX6UF3', 'https://www.diningcode.com//profile.php?rid=X7BRDbwgAQqs', 'https://www.diningcode.com//profile.php?rid=FudN2ByRB9Td', 'https://www.diningcode.com//profile.php?rid=tKBDCDdGn3GV', 'https://www.diningcode.com//profile.php?rid=HgKM9HuI2G6y', 'https://www.diningcode.com//profile.php?rid=wwidQLuX86iG', 'https://www.diningcode.com//profile.php?rid=xkEFz1HNYvRj', 'https://www.diningcode.com//profile.php?rid=UFflojCFwpFX', 'https://www.diningcode.com//profile.php?rid=dIH13ct2azv4', 'https://www.diningcode.com//profile.php?rid=yvHLdr8ENmEO', 'https://www.diningcode.com//profile.php?rid=aRlGkw4Rt7gz', 'https://www.diningcode.com//profile.php?rid=yAt0s2STJJj9', 'https://www.diningcode.com//profile.php?rid=3ekHnx05JlZI', 'https://www.diningcode.com//profile.php?rid=mNIIVbrigypi', 'https://www.diningcode.com//profile.php?rid=Gg6OJps2ey3Y', 'https://www.diningcode.com//profile.php?rid=L6kViurKOhqI', 'https://www.diningcode.com//profile.php?rid=Q5a4HTCXT3xj', 'https://www.diningcode.com//profile.php?rid=iHN7x5A6hNxg', 'https://www.diningcode.com//profile.php?rid=2RXue3pbecAZ', 'https://www.diningcode.com//profile.php?rid=hOygzAm6Rz2s', 'https://www.diningcode.com//profile.php?rid=2169jqXhjwaN', 'https://www.diningcode.com//profile.php?rid=M8kiPzuGmlt2', 'https://www.diningcode.com//profile.php?rid=SfUy7UqKS9jm', 'https://www.diningcode.com//profile.php?rid=9ZfHeg9xKaBT', 'https://www.diningcode.com//profile.php?rid=M381l73JpatE', 'https://www.diningcode.com//profile.php?rid=nuC4wM5OMEGA', 'https://www.diningcode.com//profile.php?rid=oFvvu8qlLwGR', 'https://www.diningcode.com//profile.php?rid=zT9neWBm8J5P', 'https://www.diningcode.com//profile.php?rid=9fAK9incC800', 'https://www.diningcode.com//profile.php?rid=z2EhKqDzVx2i', 'https://www.diningcode.com//profile.php?rid=kFRbyDjX8CPr', 'https://www.diningcode.com//profile.php?rid=80ydc9ZRDH9U', 'https://www.diningcode.com//profile.php?rid=LVbzk4maPTdO', 'https://www.diningcode.com//profile.php?rid=08FMAhBHkNil', 'https://www.diningcode.com//profile.php?rid=xeMEyADQZyQ1', 'https://www.diningcode.com//profile.php?rid=LwMeuNouBBjZ', 'https://www.diningcode.com//profile.php?rid=kX6Hm9rx5xmh', 'https://www.diningcode.com//profile.php?rid=b5wlMKsbiefe', 'https://www.diningcode.com//profile.php?rid=8nIGB4icYmyp', 'https://www.diningcode.com//profile.php?rid=7YjbCvn9Leu1', 'https://www.diningcode.com//profile.php?rid=ATC9gq61RBn6', 'https://www.diningcode.com//profile.php?rid=4InCJRw0cS91', 'https://www.diningcode.com//profile.php?rid=Bq7vTgEV1ipP', 'https://www.diningcode.com//profile.php?rid=VXvlyJ7cxEfS', 'https://www.diningcode.com//profile.php?rid=1BLftsR7J2hQ', 'https://www.diningcode.com//profile.php?rid=aoJj9T9btQe6', 'https://www.diningcode.com//profile.php?rid=C7ma7RNKCWLz', 'https://www.diningcode.com//profile.php?rid=xjKanTBNOQ8G', 'https://www.diningcode.com//profile.php?rid=XiyJVEt831bb', 'https://www.diningcode.com//profile.php?rid=mxJDz7Wp8gzX', 'https://www.diningcode.com//profile.php?rid=XdklLzDfyqYn', 'https://www.diningcode.com//profile.php?rid=bhuCUKfnuqr7', 'https://www.diningcode.com//profile.php?rid=AM09HULbGbpj', 'https://www.diningcode.com//profile.php?rid=K3BgOkDFaYAY', 'https://www.diningcode.com//profile.php?rid=haM4IM0dLmNi', 'https://www.diningcode.com//profile.php?rid=CPxwp47gCIBU']\n"
     ]
    },
    {
     "data": {
      "text/plain": [
       "100"
      ]
     },
     "execution_count": 7,
     "metadata": {},
     "output_type": "execute_result"
    }
   ],
   "source": [
    "rlink = []\n",
    "while True:\n",
    "    try:\n",
    "        m = driver.find_element_by_css_selector('#div_list_more')\n",
    "        m.click()\n",
    "        time.sleep(1)\n",
    "    except:\n",
    "        break\n",
    "\n",
    "#태그별로 url뽑아오기\n",
    "html_doc = driver.page_source\n",
    "soup = BeautifulSoup(html_doc, 'html.parser')\n",
    "for link in soup.find_all('a'):\n",
    "    if 'profile' in link.get('href'):\n",
    "        rlink.append('https://www.diningcode.com/' + link.get('href'))\n",
    "    \n",
    "links = rlink\n",
    "print(links)\n",
    "len(links)"
   ]
  },
  {
   "cell_type": "code",
   "execution_count": 8,
   "metadata": {},
   "outputs": [],
   "source": [
    "import numpy as np\n",
    "np.savetxt('과메기.txt', links,fmt='%s')"
   ]
  },
  {
   "cell_type": "code",
   "execution_count": 9,
   "metadata": {},
   "outputs": [],
   "source": [
    "from bs4 import BeautifulSoup\n",
    "import requests\n",
    "import pandas as pd\n",
    "from selenium import webdriver\n",
    "from selenium.webdriver.common.keys import Keys\n",
    "from selenium.webdriver.common.action_chains import ActionChains\n",
    "import time\n",
    "import os\n",
    "import numpy as np"
   ]
  },
  {
   "cell_type": "code",
   "execution_count": 10,
   "metadata": {},
   "outputs": [],
   "source": [
    "\n",
    "f = open('과메기.txt', 'r')\n",
    "df = f"
   ]
  },
  {
   "cell_type": "code",
   "execution_count": 11,
   "metadata": {},
   "outputs": [],
   "source": [
    "result=pd.DataFrame({\n",
    "    '맛집url':df\n",
    "})"
   ]
  },
  {
   "cell_type": "code",
   "execution_count": 12,
   "metadata": {},
   "outputs": [
    {
     "data": {
      "text/html": [
       "<div>\n",
       "<style scoped>\n",
       "    .dataframe tbody tr th:only-of-type {\n",
       "        vertical-align: middle;\n",
       "    }\n",
       "\n",
       "    .dataframe tbody tr th {\n",
       "        vertical-align: top;\n",
       "    }\n",
       "\n",
       "    .dataframe thead th {\n",
       "        text-align: right;\n",
       "    }\n",
       "</style>\n",
       "<table border=\"1\" class=\"dataframe\">\n",
       "  <thead>\n",
       "    <tr style=\"text-align: right;\">\n",
       "      <th></th>\n",
       "      <th>맛집url</th>\n",
       "    </tr>\n",
       "  </thead>\n",
       "  <tbody>\n",
       "    <tr>\n",
       "      <th>0</th>\n",
       "      <td>https://www.diningcode.com//profile.php?rid=M3...</td>\n",
       "    </tr>\n",
       "    <tr>\n",
       "      <th>1</th>\n",
       "      <td>https://www.diningcode.com//profile.php?rid=lk...</td>\n",
       "    </tr>\n",
       "    <tr>\n",
       "      <th>2</th>\n",
       "      <td>https://www.diningcode.com//profile.php?rid=RX...</td>\n",
       "    </tr>\n",
       "    <tr>\n",
       "      <th>3</th>\n",
       "      <td>https://www.diningcode.com//profile.php?rid=xm...</td>\n",
       "    </tr>\n",
       "    <tr>\n",
       "      <th>4</th>\n",
       "      <td>https://www.diningcode.com//profile.php?rid=AB...</td>\n",
       "    </tr>\n",
       "    <tr>\n",
       "      <th>...</th>\n",
       "      <td>...</td>\n",
       "    </tr>\n",
       "    <tr>\n",
       "      <th>95</th>\n",
       "      <td>https://www.diningcode.com//profile.php?rid=bh...</td>\n",
       "    </tr>\n",
       "    <tr>\n",
       "      <th>96</th>\n",
       "      <td>https://www.diningcode.com//profile.php?rid=AM...</td>\n",
       "    </tr>\n",
       "    <tr>\n",
       "      <th>97</th>\n",
       "      <td>https://www.diningcode.com//profile.php?rid=K3...</td>\n",
       "    </tr>\n",
       "    <tr>\n",
       "      <th>98</th>\n",
       "      <td>https://www.diningcode.com//profile.php?rid=ha...</td>\n",
       "    </tr>\n",
       "    <tr>\n",
       "      <th>99</th>\n",
       "      <td>https://www.diningcode.com//profile.php?rid=CP...</td>\n",
       "    </tr>\n",
       "  </tbody>\n",
       "</table>\n",
       "<p>100 rows × 1 columns</p>\n",
       "</div>"
      ],
      "text/plain": [
       "                                                맛집url\n",
       "0   https://www.diningcode.com//profile.php?rid=M3...\n",
       "1   https://www.diningcode.com//profile.php?rid=lk...\n",
       "2   https://www.diningcode.com//profile.php?rid=RX...\n",
       "3   https://www.diningcode.com//profile.php?rid=xm...\n",
       "4   https://www.diningcode.com//profile.php?rid=AB...\n",
       "..                                                ...\n",
       "95  https://www.diningcode.com//profile.php?rid=bh...\n",
       "96  https://www.diningcode.com//profile.php?rid=AM...\n",
       "97  https://www.diningcode.com//profile.php?rid=K3...\n",
       "98  https://www.diningcode.com//profile.php?rid=ha...\n",
       "99  https://www.diningcode.com//profile.php?rid=CP...\n",
       "\n",
       "[100 rows x 1 columns]"
      ]
     },
     "execution_count": 12,
     "metadata": {},
     "output_type": "execute_result"
    }
   ],
   "source": [
    "result"
   ]
  },
  {
   "cell_type": "code",
   "execution_count": 13,
   "metadata": {},
   "outputs": [
    {
     "data": {
      "text/plain": [
       "100"
      ]
     },
     "execution_count": 13,
     "metadata": {},
     "output_type": "execute_result"
    }
   ],
   "source": [
    "result_list = result['맛집url'].to_list()\n",
    "len(result_list)"
   ]
  },
  {
   "cell_type": "code",
   "execution_count": 14,
   "metadata": {},
   "outputs": [
    {
     "data": {
      "text/plain": [
       "100"
      ]
     },
     "execution_count": 14,
     "metadata": {},
     "output_type": "execute_result"
    }
   ],
   "source": [
    "result=np.array(result['맛집url'].tolist())\n",
    "len(result)"
   ]
  },
  {
   "cell_type": "code",
   "execution_count": 15,
   "metadata": {},
   "outputs": [
    {
     "data": {
      "text/html": [
       "<div>\n",
       "<style scoped>\n",
       "    .dataframe tbody tr th:only-of-type {\n",
       "        vertical-align: middle;\n",
       "    }\n",
       "\n",
       "    .dataframe tbody tr th {\n",
       "        vertical-align: top;\n",
       "    }\n",
       "\n",
       "    .dataframe thead th {\n",
       "        text-align: right;\n",
       "    }\n",
       "</style>\n",
       "<table border=\"1\" class=\"dataframe\">\n",
       "  <thead>\n",
       "    <tr style=\"text-align: right;\">\n",
       "      <th></th>\n",
       "      <th>맛집</th>\n",
       "      <th>평점</th>\n",
       "      <th>주소</th>\n",
       "      <th>번호</th>\n",
       "      <th>영업시간</th>\n",
       "      <th>메뉴정보</th>\n",
       "      <th>리뷰</th>\n",
       "    </tr>\n",
       "  </thead>\n",
       "  <tbody>\n",
       "  </tbody>\n",
       "</table>\n",
       "</div>"
      ],
      "text/plain": [
       "Empty DataFrame\n",
       "Columns: [맛집, 평점, 주소, 번호, 영업시간, 메뉴정보, 리뷰]\n",
       "Index: []"
      ]
     },
     "execution_count": 15,
     "metadata": {},
     "output_type": "execute_result"
    }
   ],
   "source": [
    "test = pd.DataFrame(columns=['맛집', '평점','주소','번호','영업시간','메뉴정보','리뷰'])\n",
    "test"
   ]
  },
  {
   "cell_type": "code",
   "execution_count": 16,
   "metadata": {},
   "outputs": [],
   "source": [
    "driver=webdriver.Chrome('./chromedriver.exe')\n",
    "action=ActionChains(driver)"
   ]
  },
  {
   "cell_type": "code",
   "execution_count": 17,
   "metadata": {},
   "outputs": [],
   "source": [
    "for final in range(len(result_list)):\n",
    "    driver=webdriver.Chrome('./chromedriver.exe')\n",
    "    driver.get(result_list[final])\n",
    "    #html_doc = driver.page_source\n",
    "    #soup = BeautifulSoup(html_doc, 'html.parser')\n",
    "    #맛집 이름\n",
    "    try:    \n",
    "        title = driver.find_element_by_xpath('//*[@id=\"div_profile\"]/div[1]/div[2]/p').text\n",
    "    except:\n",
    "        title = None\n",
    "        \n",
    "    #맛집 평점\n",
    "    try:\n",
    "        count = driver.find_element_by_xpath('//*[@id=\"lbl_review_point\"]').text.replace('\\n', '')\n",
    "    except:\n",
    "        count = None\n",
    "    # info = soup.find(\"tbody\").get_text().replace('\\n', '')\n",
    "    # print(info)\n",
    "    # 맛집 주소\n",
    "    \n",
    "    try:\n",
    "        address = driver.find_element_by_xpath('//*[@id=\"div_profile\"]/div[2]/ul/li[1]').text\n",
    "    except:\n",
    "        address = None\n",
    "        \n",
    "    # 전화 번호\n",
    "    try:\n",
    "        number = driver.find_element_by_xpath('//*[@id=\"div_profile\"]/div[2]/ul/li[2]').text\n",
    "    except:\n",
    "        number = None\n",
    "    # 영업 시간\n",
    "    try:\n",
    "        time = driver.find_element_by_xpath('//*[@id=\"div_detail\"]/div[1]').text.replace('\\n', '')\n",
    "    except:\n",
    "        time = None\n",
    "    # 메뉴 정보\n",
    "    try:\n",
    "        info = driver.find_element_by_xpath('//*[@id=\"div_detail\"]/div[2]').text\n",
    "    except:\n",
    "        info = None\n",
    "    \n",
    "    try:\n",
    "        menu = info.replace('메뉴정보','').replace('더보기', '').replace('\\n', '')\n",
    "    except:\n",
    "        menu = None\n",
    "    # 리뷰 \n",
    "    \n",
    "    try:\n",
    "        review = driver.find_element_by_xpath('//*[@id=\"div_profile\"]/div[8]').text.replace('\\n', '')\n",
    "    except:\n",
    "        review = None\n",
    "    test.loc[final] = [title,count,address,number,time,menu,review]\n",
    "    \n",
    "    driver.close()\n"
   ]
  },
  {
   "cell_type": "code",
   "execution_count": 18,
   "metadata": {},
   "outputs": [
    {
     "data": {
      "text/html": [
       "<div>\n",
       "<style scoped>\n",
       "    .dataframe tbody tr th:only-of-type {\n",
       "        vertical-align: middle;\n",
       "    }\n",
       "\n",
       "    .dataframe tbody tr th {\n",
       "        vertical-align: top;\n",
       "    }\n",
       "\n",
       "    .dataframe thead th {\n",
       "        text-align: right;\n",
       "    }\n",
       "</style>\n",
       "<table border=\"1\" class=\"dataframe\">\n",
       "  <thead>\n",
       "    <tr style=\"text-align: right;\">\n",
       "      <th></th>\n",
       "      <th>맛집</th>\n",
       "      <th>평점</th>\n",
       "      <th>주소</th>\n",
       "      <th>번호</th>\n",
       "      <th>영업시간</th>\n",
       "      <th>메뉴정보</th>\n",
       "      <th>리뷰</th>\n",
       "    </tr>\n",
       "  </thead>\n",
       "  <tbody>\n",
       "    <tr>\n",
       "      <th>0</th>\n",
       "      <td>할매재첩국</td>\n",
       "      <td>4.3점</td>\n",
       "      <td>서울특별시 강남구 대치동 988-2</td>\n",
       "      <td>02-501-6667</td>\n",
       "      <td>영업시간화,수,목,금,토/일24시간 영업휴무일매주 월요일</td>\n",
       "      <td>제첩정식10,000원재첩덮밥15,000원재첩진국15,000원</td>\n",
       "      <td>9건의 방문자 평가4.3점맛5.0 가격4.1 서비스4.5방문목적아침식사(6) 점심식...</td>\n",
       "    </tr>\n",
       "    <tr>\n",
       "      <th>1</th>\n",
       "      <td>구룡포</td>\n",
       "      <td>4.4점</td>\n",
       "      <td>서울특별시 강남구 대치동 901-64</td>\n",
       "      <td>02-554-8939</td>\n",
       "      <td>영업시간월-금오전 11시 - 오후 10시</td>\n",
       "      <td>포항물회10,000원시래기정식 (2인이상)10,000원곰칫국 (여름제외)15,000원</td>\n",
       "      <td>5건의 방문자 평가4.4점맛5.0 가격4.6 서비스5.0방문목적술모임(5) 저녁식사...</td>\n",
       "    </tr>\n",
       "    <tr>\n",
       "      <th>2</th>\n",
       "      <td>포항수산</td>\n",
       "      <td>4.1점</td>\n",
       "      <td>서울시 송파구 가락동 600 가락수산물시장 내부</td>\n",
       "      <td>02-408-8817</td>\n",
       "      <td>영업시간매일오전 9시 - 오전 7시</td>\n",
       "      <td>광어50,000원참복초밥40,000원</td>\n",
       "      <td>7건의 방문자 평가4.1점맛5.0 가격2.8 서비스3.7방문목적저녁식사(5) 술모임...</td>\n",
       "    </tr>\n",
       "    <tr>\n",
       "      <th>3</th>\n",
       "      <td>포항막회</td>\n",
       "      <td>3.8점</td>\n",
       "      <td>서울특별시 광진구 화양동 10-28</td>\n",
       "      <td>02-469-1386</td>\n",
       "      <td>영업시간월-금오후 4시 - 오전 2시 (연중무휴)</td>\n",
       "      <td>물회(대) 3인분33,000원물회(중) 2인분26,000원막회(대) 3인분33,000원</td>\n",
       "      <td>6건의 방문자 평가3.8점맛4.6 가격4.0 서비스4.5방문목적술모임(5) 데이트(...</td>\n",
       "    </tr>\n",
       "    <tr>\n",
       "      <th>4</th>\n",
       "      <td>영덕회식당</td>\n",
       "      <td>3.8점</td>\n",
       "      <td>서울시 중구 충무로4가 56-3</td>\n",
       "      <td>02-2267-0942</td>\n",
       "      <td>영업시간월-금정오 12시 - 오후 10시토요일정오 12시 - 오후 5시더보기</td>\n",
       "      <td>과메기24,000원막회(중)24,000원점심 회덮밥7,000원</td>\n",
       "      <td>3건의 방문자 평가3.8점맛0 가격0 서비스0매우만족(0)만족(2)보통(1)불만(0...</td>\n",
       "    </tr>\n",
       "    <tr>\n",
       "      <th>...</th>\n",
       "      <td>...</td>\n",
       "      <td>...</td>\n",
       "      <td>...</td>\n",
       "      <td>...</td>\n",
       "      <td>...</td>\n",
       "      <td>...</td>\n",
       "      <td>...</td>\n",
       "    </tr>\n",
       "    <tr>\n",
       "      <th>95</th>\n",
       "      <td>형제수산</td>\n",
       "      <td>4.9점</td>\n",
       "      <td>대구광역시 수성구 수성동2가 267-14</td>\n",
       "      <td>053-766-1313</td>\n",
       "      <td>영업시간월-금오후 1시 - 자정 12시 ((마지막주문 22시 30분))토요일정오 1...</td>\n",
       "      <td>자연산참가자미모듬 1인25,000원도다리,대방어 1인35,000원줄가자미 1인48,...</td>\n",
       "      <td>3건의 방문자 평가4.9점맛4.9 가격4.9 서비스4.9방문목적저녁식사(2) 술모임...</td>\n",
       "    </tr>\n",
       "    <tr>\n",
       "      <th>96</th>\n",
       "      <td>한상바다</td>\n",
       "      <td>5.0점</td>\n",
       "      <td>대구광역시 달성군 다사읍 매곡리 1550-1</td>\n",
       "      <td>053-587-5828</td>\n",
       "      <td>영업시간매일오전 11시 30분 - 오후 11시 30분</td>\n",
       "      <td>모듬회, 광어or우럭, 숭어 or밀치,전복,연어 2인50,000원모듬회, 광어or우...</td>\n",
       "      <td>1건의 방문자 평가5.0점맛0 가격0 서비스0매우만족(1)만족(0)보통(0)불만(0...</td>\n",
       "    </tr>\n",
       "    <tr>\n",
       "      <th>97</th>\n",
       "      <td>바보주막</td>\n",
       "      <td>4.0점</td>\n",
       "      <td>부산광역시 부산진구 부전1동 397-6</td>\n",
       "      <td>051-805-3800</td>\n",
       "      <td>영업시간월-금오후 4시 - 오전 1시휴무일매주 일요일</td>\n",
       "      <td>시장막회13,000원땡초부추전13,000원봉하막걸리4,000원</td>\n",
       "      <td>1건의 방문자 평가4.0점맛5.0 가격3.0 서비스5.0방문목적술모임(1) 저녁식사...</td>\n",
       "    </tr>\n",
       "    <tr>\n",
       "      <th>98</th>\n",
       "      <td>기장꼼장어</td>\n",
       "      <td>4.0점</td>\n",
       "      <td>대전광역시 서구 월평2동 228</td>\n",
       "      <td>042-489-5498</td>\n",
       "      <td>영업시간매일오후 4시 - 자정 12시 (매주 일요일 휴무)</td>\n",
       "      <td>꼼장어 소금구이11,000원파삼겹양념구이12,000원멸치회무침 (소)20,000원</td>\n",
       "      <td>1건의 방문자 평가4.0점맛5.0 가격3.0 서비스5.0방문목적회식(1) 술모임(1...</td>\n",
       "    </tr>\n",
       "    <tr>\n",
       "      <th>99</th>\n",
       "      <td>옛날포차</td>\n",
       "      <td>5.0점</td>\n",
       "      <td>경기도 고양시 덕양구 내유동 653-52</td>\n",
       "      <td>031-969-1824</td>\n",
       "      <td>영업시간매일오후 4시 - 오전 2시 (매월 첫째,셋째주 일요일 휴무)</td>\n",
       "      <td>포항구룡포 과메기20,000원석화굴찜20,000원코다리찜20,000원</td>\n",
       "      <td>블로그리뷰내유동 꺼벙이네 옛날 포차~ 날씨가 추워졌구나~안녕하세요 꼬꼬댁입니다 ~ ...</td>\n",
       "    </tr>\n",
       "  </tbody>\n",
       "</table>\n",
       "<p>100 rows × 7 columns</p>\n",
       "</div>"
      ],
      "text/plain": [
       "       맛집    평점                          주소            번호  \\\n",
       "0   할매재첩국  4.3점         서울특별시 강남구 대치동 988-2   02-501-6667   \n",
       "1     구룡포  4.4점        서울특별시 강남구 대치동 901-64   02-554-8939   \n",
       "2    포항수산  4.1점  서울시 송파구 가락동 600 가락수산물시장 내부   02-408-8817   \n",
       "3    포항막회  3.8점         서울특별시 광진구 화양동 10-28   02-469-1386   \n",
       "4   영덕회식당  3.8점           서울시 중구 충무로4가 56-3  02-2267-0942   \n",
       "..    ...   ...                         ...           ...   \n",
       "95   형제수산  4.9점      대구광역시 수성구 수성동2가 267-14  053-766-1313   \n",
       "96   한상바다  5.0점    대구광역시 달성군 다사읍 매곡리 1550-1  053-587-5828   \n",
       "97   바보주막  4.0점       부산광역시 부산진구 부전1동 397-6  051-805-3800   \n",
       "98  기장꼼장어  4.0점           대전광역시 서구 월평2동 228  042-489-5498   \n",
       "99   옛날포차  5.0점      경기도 고양시 덕양구 내유동 653-52  031-969-1824   \n",
       "\n",
       "                                                 영업시간  \\\n",
       "0                     영업시간화,수,목,금,토/일24시간 영업휴무일매주 월요일   \n",
       "1                              영업시간월-금오전 11시 - 오후 10시   \n",
       "2                                 영업시간매일오전 9시 - 오전 7시   \n",
       "3                         영업시간월-금오후 4시 - 오전 2시 (연중무휴)   \n",
       "4          영업시간월-금정오 12시 - 오후 10시토요일정오 12시 - 오후 5시더보기   \n",
       "..                                                ...   \n",
       "95  영업시간월-금오후 1시 - 자정 12시 ((마지막주문 22시 30분))토요일정오 1...   \n",
       "96                      영업시간매일오전 11시 30분 - 오후 11시 30분   \n",
       "97                      영업시간월-금오후 4시 - 오전 1시휴무일매주 일요일   \n",
       "98                   영업시간매일오후 4시 - 자정 12시 (매주 일요일 휴무)   \n",
       "99             영업시간매일오후 4시 - 오전 2시 (매월 첫째,셋째주 일요일 휴무)   \n",
       "\n",
       "                                                 메뉴정보  \\\n",
       "0                   제첩정식10,000원재첩덮밥15,000원재첩진국15,000원   \n",
       "1     포항물회10,000원시래기정식 (2인이상)10,000원곰칫국 (여름제외)15,000원   \n",
       "2                                광어50,000원참복초밥40,000원   \n",
       "3    물회(대) 3인분33,000원물회(중) 2인분26,000원막회(대) 3인분33,000원   \n",
       "4                  과메기24,000원막회(중)24,000원점심 회덮밥7,000원   \n",
       "..                                                ...   \n",
       "95  자연산참가자미모듬 1인25,000원도다리,대방어 1인35,000원줄가자미 1인48,...   \n",
       "96  모듬회, 광어or우럭, 숭어 or밀치,전복,연어 2인50,000원모듬회, 광어or우...   \n",
       "97                 시장막회13,000원땡초부추전13,000원봉하막걸리4,000원   \n",
       "98      꼼장어 소금구이11,000원파삼겹양념구이12,000원멸치회무침 (소)20,000원   \n",
       "99             포항구룡포 과메기20,000원석화굴찜20,000원코다리찜20,000원   \n",
       "\n",
       "                                                   리뷰  \n",
       "0   9건의 방문자 평가4.3점맛5.0 가격4.1 서비스4.5방문목적아침식사(6) 점심식...  \n",
       "1   5건의 방문자 평가4.4점맛5.0 가격4.6 서비스5.0방문목적술모임(5) 저녁식사...  \n",
       "2   7건의 방문자 평가4.1점맛5.0 가격2.8 서비스3.7방문목적저녁식사(5) 술모임...  \n",
       "3   6건의 방문자 평가3.8점맛4.6 가격4.0 서비스4.5방문목적술모임(5) 데이트(...  \n",
       "4   3건의 방문자 평가3.8점맛0 가격0 서비스0매우만족(0)만족(2)보통(1)불만(0...  \n",
       "..                                                ...  \n",
       "95  3건의 방문자 평가4.9점맛4.9 가격4.9 서비스4.9방문목적저녁식사(2) 술모임...  \n",
       "96  1건의 방문자 평가5.0점맛0 가격0 서비스0매우만족(1)만족(0)보통(0)불만(0...  \n",
       "97  1건의 방문자 평가4.0점맛5.0 가격3.0 서비스5.0방문목적술모임(1) 저녁식사...  \n",
       "98  1건의 방문자 평가4.0점맛5.0 가격3.0 서비스5.0방문목적회식(1) 술모임(1...  \n",
       "99  블로그리뷰내유동 꺼벙이네 옛날 포차~ 날씨가 추워졌구나~안녕하세요 꼬꼬댁입니다 ~ ...  \n",
       "\n",
       "[100 rows x 7 columns]"
      ]
     },
     "execution_count": 18,
     "metadata": {},
     "output_type": "execute_result"
    }
   ],
   "source": [
    "test"
   ]
  },
  {
   "cell_type": "code",
   "execution_count": 19,
   "metadata": {},
   "outputs": [],
   "source": [
    "# test.to_csv('과메기.csv', index=False, encoding='utf-8-sig')"
   ]
  },
  {
   "cell_type": "code",
   "execution_count": null,
   "metadata": {},
   "outputs": [],
   "source": []
  }
 ],
 "metadata": {
  "kernelspec": {
   "display_name": "Python 3",
   "language": "python",
   "name": "python3"
  },
  "language_info": {
   "codemirror_mode": {
    "name": "ipython",
    "version": 3
   },
   "file_extension": ".py",
   "mimetype": "text/x-python",
   "name": "python",
   "nbconvert_exporter": "python",
   "pygments_lexer": "ipython3",
   "version": "3.7.6"
  }
 },
 "nbformat": 4,
 "nbformat_minor": 4
}
